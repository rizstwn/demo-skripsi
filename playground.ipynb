{
 "cells": [
  {
   "cell_type": "code",
   "execution_count": 1,
   "metadata": {},
   "outputs": [
    {
     "name": "stderr",
     "output_type": "stream",
     "text": [
      "mkdir: cannot create directory ‘treetagger’: File exists\n",
      "--2023-05-26 16:05:33--  https://cis.lmu.de/~schmid/tools/TreeTagger/data/tree-tagger-linux-3.2.4.tar.gz\n",
      "Resolving cis.lmu.de (cis.lmu.de)... 129.187.148.72, 2001:4ca0:4f01::5\n",
      "Connecting to cis.lmu.de (cis.lmu.de)|129.187.148.72|:443... connected.\n"
     ]
    },
    {
     "name": "stdout",
     "output_type": "stream",
     "text": [
      "Error while terminating subprocess (pid=1779): \n"
     ]
    },
    {
     "name": "stderr",
     "output_type": "stream",
     "text": [
      "HTTP request sent, awaiting response... 200 OK\n",
      "Length: 1889240 (1.8M) [application/x-gzip]\n",
      "Saving to: ‘tree-tagger-linux-3.2.4.tar.gz.1’\n",
      "\n",
      "     0K .......... .......... .......... .......... ..........  2%  108K 17s\n",
      "    50K .......... .......... .......... .......... ..........  5%  216K 12s\n",
      "   100K .......... .......... .......... .......... ..........  8% 5.69M 8s\n",
      "   150K .......... .......... .......... .......... .......... 10%  226K 8s\n",
      "   200K .......... .......... .......... .......... .......... 13% 11.3M 6s\n",
      "   250K .......... .......... .......... .......... .......... 16% 7.32M 5s\n",
      "   300K .......... .......... .......... .......... .......... 18% 13.2M 4s\n",
      "   350K .......... .......... .......... .......... .......... 21%  233K 4s\n",
      "   400K .......... .......... .......... .......... .......... 24% 10.1M 4s\n",
      "   450K .......... .......... .......... .......... .......... 27% 8.29M 3s\n",
      "   500K .......... .......... .......... .......... .......... 29% 10.7M 3s\n",
      "   550K .......... .......... .......... .......... .......... 32%  359M 2s\n",
      "   600K .......... .......... .......... .......... .......... 35% 12.0M 2s\n",
      "   650K .......... .......... .......... .......... .......... 37% 6.48M 2s\n",
      "   700K .......... .......... .......... .......... .......... 40%  121M 2s\n",
      "   750K .......... .......... .......... .......... .......... 43% 44.5M 2s\n",
      "   800K .......... .......... .......... .......... .......... 46%  245K 2s\n",
      "   850K .......... .......... .......... .......... .......... 48% 6.67M 1s\n",
      "   900K .......... .......... .......... .......... .......... 51% 18.4M 1s\n",
      "   950K .......... .......... .......... .......... .......... 54% 3.04M 1s\n",
      "  1000K .......... .......... .......... .......... .......... 56% 8.89M 1s\n",
      "  1050K .......... .......... .......... .......... .......... 59% 8.63M 1s\n",
      "  1100K .......... .......... .......... .......... .......... 62% 87.1M 1s\n",
      "  1150K .......... .......... .......... .......... .......... 65% 9.09M 1s\n",
      "  1200K .......... .......... .......... .......... .......... 67%  109M 1s\n",
      "  1250K .......... .......... .......... .......... .......... 70%  364M 1s\n",
      "  1300K .......... .......... .......... .......... .......... 73% 6.83M 1s\n",
      "  1350K .......... .......... .......... .......... .......... 75%  324M 0s\n",
      "  1400K .......... .......... .......... .......... .......... 78% 8.81M 0s\n",
      "  1450K .......... .......... .......... .......... .......... 81%  342M 0s\n",
      "  1500K .......... .......... .......... .......... .......... 84% 5.42M 0s\n",
      "  1550K .......... .......... .......... .......... .......... 86%  420M 0s\n"
     ]
    }
   ],
   "source": [
    "%%bash\n",
    "mkdir treetagger\n",
    "cd treetagger\n",
    "# Download the tagger package for your system (PC-Linux, Mac OS-X, ARM64, ARMHF, ARM-Android, PPC64le-Linux).\n",
    "wget https://cis.lmu.de/~schmid/tools/TreeTagger/data/tree-tagger-linux-3.2.4.tar.gz\n",
    "tar -xzvf tree-tagger-linux-3.2.4.tar.gz\n",
    "# Download the tagging scripts into the same directory.\n",
    "wget https://cis.lmu.de/~schmid/tools/TreeTagger/data/tagger-scripts.tar.gz\n",
    "gunzip tagger-scripts.tar.gz\n",
    "# Download the installation script install-tagger.sh.\n",
    "wget https://cis.lmu.de/~schmid/tools/TreeTagger/data/install-tagger.sh\n",
    "# Download the parameter files for the languages you want to process.\n",
    "# list of all files (parameter files) https://cis.lmu.de/~schmid/tools/TreeTagger/#parfiles\n",
    "wget https://cis.lmu.de/~schmid/tools/TreeTagger/data/english.par.gz\n",
    "sh install-tagger.sh"
   ]
  },
  {
   "cell_type": "code",
   "execution_count": null,
   "metadata": {},
   "outputs": [
    {
     "name": "stdout",
     "output_type": "stream",
     "text": [
      "Collecting treetaggerwrapper\n",
      "  Downloading treetaggerwrapper-2.3.tar.gz (43 kB)\n",
      "Building wheels for collected packages: treetaggerwrapper\n",
      "  Building wheel for treetaggerwrapper (setup.py): started\n",
      "  Building wheel for treetaggerwrapper (setup.py): finished with status 'error'\n"
     ]
    },
    {
     "name": "stderr",
     "output_type": "stream",
     "text": [
      "  ERROR: Command errored out with exit status 1:\n",
      "   command: /home/rizstwn/demo-skripsi/venv/bin/python3 -u -c 'import sys, setuptools, tokenize; sys.argv[0] = '\"'\"'/tmp/pip-install-459anc5l/treetaggerwrapper/setup.py'\"'\"'; __file__='\"'\"'/tmp/pip-install-459anc5l/treetaggerwrapper/setup.py'\"'\"';f=getattr(tokenize, '\"'\"'open'\"'\"', open)(__file__);code=f.read().replace('\"'\"'\\r\\n'\"'\"', '\"'\"'\\n'\"'\"');f.close();exec(compile(code, __file__, '\"'\"'exec'\"'\"'))' bdist_wheel -d /tmp/pip-wheel-j5syjxgp\n",
      "       cwd: /tmp/pip-install-459anc5l/treetaggerwrapper/\n",
      "  Complete output (6 lines):\n",
      "  usage: setup.py [global_opts] cmd1 [cmd1_opts] [cmd2 [cmd2_opts] ...]\n",
      "     or: setup.py --help [cmd1 cmd2 ...]\n",
      "     or: setup.py --help-commands\n",
      "     or: setup.py cmd --help\n",
      "  \n",
      "  error: invalid command 'bdist_wheel'\n",
      "  ----------------------------------------\n",
      "  ERROR: Failed building wheel for treetaggerwrapper\n"
     ]
    },
    {
     "name": "stdout",
     "output_type": "stream",
     "text": [
      "  Running setup.py clean for treetaggerwrapper\n",
      "Failed to build treetaggerwrapper\n",
      "Installing collected packages: treetaggerwrapper\n",
      "    Running setup.py install for treetaggerwrapper: started\n",
      "    Running setup.py install for treetaggerwrapper: finished with status 'done'\n",
      "Successfully installed treetaggerwrapper-2.3\n"
     ]
    }
   ],
   "source": [
    "%%bash\n",
    "pip install treetaggerwrapper\n",
    "pip install nltk\n",
    "pip install scikit-learn\n",
    "pip install pandas\n",
    "pip install openpyxl\n",
    "pip install streamlit"
   ]
  },
  {
   "cell_type": "code",
   "execution_count": 5,
   "metadata": {},
   "outputs": [
    {
     "data": {
      "text/html": [
       "<div>\n",
       "<style scoped>\n",
       "    .dataframe tbody tr th:only-of-type {\n",
       "        vertical-align: middle;\n",
       "    }\n",
       "\n",
       "    .dataframe tbody tr th {\n",
       "        vertical-align: top;\n",
       "    }\n",
       "\n",
       "    .dataframe thead th {\n",
       "        text-align: right;\n",
       "    }\n",
       "</style>\n",
       "<table border=\"1\" class=\"dataframe\">\n",
       "  <thead>\n",
       "    <tr style=\"text-align: right;\">\n",
       "      <th></th>\n",
       "      <th>Predicted Label</th>\n",
       "    </tr>\n",
       "  </thead>\n",
       "  <tbody>\n",
       "    <tr>\n",
       "      <th>aesthetics</th>\n",
       "      <td>Unknown</td>\n",
       "    </tr>\n",
       "    <tr>\n",
       "      <th>interfaces</th>\n",
       "      <td>Unknown</td>\n",
       "    </tr>\n",
       "    <tr>\n",
       "      <th>mechanics</th>\n",
       "      <td>stimulating</td>\n",
       "    </tr>\n",
       "    <tr>\n",
       "      <th>usability</th>\n",
       "      <td>Unknown</td>\n",
       "    </tr>\n",
       "  </tbody>\n",
       "</table>\n",
       "</div>"
      ],
      "text/plain": [
       "           Predicted Label\n",
       "aesthetics         Unknown\n",
       "interfaces         Unknown\n",
       "mechanics      stimulating\n",
       "usability          Unknown"
      ]
     },
     "execution_count": 5,
     "metadata": {},
     "output_type": "execute_result"
    }
   ],
   "source": [
    "from predict import get_review_prediction\n",
    "import pandas as pd\n",
    "from apriori import Apriori\n",
    "Apriori()\n",
    "review_text = ['This is so lame, i hate this game. But the mechanics is so good tho so i am not sure for now.']\n",
    "res = get_review_prediction(review_text)\n",
    "for model in res.keys():\n",
    "    temp_dict = {}\n",
    "    for aspect in res[model].keys():\n",
    "        for label in res[model][aspect][0].keys():\n",
    "            temp_dict[(aspect,label)] = res[model][aspect][0][label] \n",
    "    res[model] = temp_dict\n",
    "test_df = pd.DataFrame.from_dict(res)\n",
    "pred_label = {}\n",
    "for aspect in test_df.index.get_level_values(0).unique():\n",
    "    temp_df = test_df.loc[aspect].idxmax()\n",
    "    pred_label[aspect] = temp_df['heuristic']\n",
    "pd.DataFrame(pred_label.values(), columns=['Predicted Label'], index=pred_label.keys())"
   ]
  },
  {
   "cell_type": "code",
   "execution_count": 6,
   "metadata": {},
   "outputs": [
    {
     "data": {
      "text/html": [
       "<div>\n",
       "<style scoped>\n",
       "    .dataframe tbody tr th:only-of-type {\n",
       "        vertical-align: middle;\n",
       "    }\n",
       "\n",
       "    .dataframe tbody tr th {\n",
       "        vertical-align: top;\n",
       "    }\n",
       "\n",
       "    .dataframe thead th {\n",
       "        text-align: right;\n",
       "    }\n",
       "</style>\n",
       "<table border=\"1\" class=\"dataframe\">\n",
       "  <thead>\n",
       "    <tr style=\"text-align: right;\">\n",
       "      <th></th>\n",
       "      <th></th>\n",
       "      <th>apriori</th>\n",
       "      <th>svm</th>\n",
       "      <th>heuristic</th>\n",
       "    </tr>\n",
       "  </thead>\n",
       "  <tbody>\n",
       "    <tr>\n",
       "      <th rowspan=\"3\" valign=\"top\">aesthetics</th>\n",
       "      <th>Unknown</th>\n",
       "      <td>0.000000</td>\n",
       "      <td>2.286859</td>\n",
       "      <td>1.143429</td>\n",
       "    </tr>\n",
       "    <tr>\n",
       "      <th>appealing</th>\n",
       "      <td>0.000000</td>\n",
       "      <td>1.181702</td>\n",
       "      <td>0.590851</td>\n",
       "    </tr>\n",
       "    <tr>\n",
       "      <th>repel</th>\n",
       "      <td>0.000000</td>\n",
       "      <td>-0.293512</td>\n",
       "      <td>-0.146756</td>\n",
       "    </tr>\n",
       "    <tr>\n",
       "      <th rowspan=\"3\" valign=\"top\">interfaces</th>\n",
       "      <th>Unknown</th>\n",
       "      <td>0.000000</td>\n",
       "      <td>2.244582</td>\n",
       "      <td>1.122291</td>\n",
       "    </tr>\n",
       "    <tr>\n",
       "      <th>clear</th>\n",
       "      <td>0.000000</td>\n",
       "      <td>-0.250498</td>\n",
       "      <td>-0.125249</td>\n",
       "    </tr>\n",
       "    <tr>\n",
       "      <th>confusing</th>\n",
       "      <td>0.000000</td>\n",
       "      <td>1.070506</td>\n",
       "      <td>0.535253</td>\n",
       "    </tr>\n",
       "    <tr>\n",
       "      <th rowspan=\"3\" valign=\"top\">mechanics</th>\n",
       "      <th>Unknown</th>\n",
       "      <td>0.000000</td>\n",
       "      <td>0.867716</td>\n",
       "      <td>0.433858</td>\n",
       "    </tr>\n",
       "    <tr>\n",
       "      <th>bore</th>\n",
       "      <td>0.170213</td>\n",
       "      <td>-0.262049</td>\n",
       "      <td>0.039188</td>\n",
       "    </tr>\n",
       "    <tr>\n",
       "      <th>stimulating</th>\n",
       "      <td>0.829787</td>\n",
       "      <td>2.270842</td>\n",
       "      <td>1.965208</td>\n",
       "    </tr>\n",
       "    <tr>\n",
       "      <th rowspan=\"3\" valign=\"top\">usability</th>\n",
       "      <th>Unknown</th>\n",
       "      <td>0.000000</td>\n",
       "      <td>1.183461</td>\n",
       "      <td>0.591731</td>\n",
       "    </tr>\n",
       "    <tr>\n",
       "      <th>comfortable</th>\n",
       "      <td>0.000000</td>\n",
       "      <td>0.775633</td>\n",
       "      <td>0.387816</td>\n",
       "    </tr>\n",
       "    <tr>\n",
       "      <th>restrained</th>\n",
       "      <td>0.000000</td>\n",
       "      <td>1.151674</td>\n",
       "      <td>0.575837</td>\n",
       "    </tr>\n",
       "  </tbody>\n",
       "</table>\n",
       "</div>"
      ],
      "text/plain": [
       "                         apriori       svm  heuristic\n",
       "aesthetics Unknown      0.000000  2.286859   1.143429\n",
       "           appealing    0.000000  1.181702   0.590851\n",
       "           repel        0.000000 -0.293512  -0.146756\n",
       "interfaces Unknown      0.000000  2.244582   1.122291\n",
       "           clear        0.000000 -0.250498  -0.125249\n",
       "           confusing    0.000000  1.070506   0.535253\n",
       "mechanics  Unknown      0.000000  0.867716   0.433858\n",
       "           bore         0.170213 -0.262049   0.039188\n",
       "           stimulating  0.829787  2.270842   1.965208\n",
       "usability  Unknown      0.000000  1.183461   0.591731\n",
       "           comfortable  0.000000  0.775633   0.387816\n",
       "           restrained   0.000000  1.151674   0.575837"
      ]
     },
     "execution_count": 6,
     "metadata": {},
     "output_type": "execute_result"
    }
   ],
   "source": [
    "test_df"
   ]
  }
 ],
 "metadata": {
  "kernelspec": {
   "display_name": "venv",
   "language": "python",
   "name": "python3"
  },
  "language_info": {
   "codemirror_mode": {
    "name": "ipython",
    "version": 3
   },
   "file_extension": ".py",
   "mimetype": "text/x-python",
   "name": "python",
   "nbconvert_exporter": "python",
   "pygments_lexer": "ipython3",
   "version": "3.8.10"
  },
  "orig_nbformat": 4
 },
 "nbformat": 4,
 "nbformat_minor": 2
}
